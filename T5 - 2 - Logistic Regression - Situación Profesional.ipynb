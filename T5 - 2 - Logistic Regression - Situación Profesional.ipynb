{
  "cells": [
    {
      "cell_type": "markdown",
      "metadata": {
        "id": "SNTNAcHoH-kr"
      },
      "source": [
        "![image.png](attachment:image.png)"
      ]
    },
    {
      "cell_type": "markdown",
      "metadata": {
        "id": "rwT8LAD0H-kt"
      },
      "source": [
        "# Implementación el método de la máxima verosimilitud para la regresión logística\n",
        "\n",
        "#### Fuente:\n",
        "https://www.cienciadedatos.net/documentos/py17-regresion-logistica-python.html\n",
        "\n",
        "https://www.cienciadedatos.net/documentos/27_regresion_logistica_simple_y_multiple\n",
        "\n",
        "\n",
        "\n",
        "#### Otras fuentes:\n",
        "https://medium.com/codex/logistic-regression-and-maximum-likelihood-estimation-function-5d8d998245f9\n",
        "\n",
        "https://machinelearningmastery.com/logistic-regression-with-maximum-likelihood-estimation/\n",
        "\n",
        "\n",
        "#### Maximum Likelihood Estimation / Estimador de máxima verosimilitud\n",
        "https://faculty.washington.edu/ezivot/econ583/mleLectures.pdf\n",
        "\n",
        "\n",
        "#### Statmodel\n",
        "https://www.statsmodels.org/stable/discretemod.html\n",
        "\n",
        "\n",
        "#### Sklearn\n",
        "https://scikit-learn.org/0.16/modules/generated/sklearn.linear_model.LogisticRegression.html\n",
        "\n",
        "\n",
        "\n",
        "Para tratar \n",
        "\n"
      ]
    },
    {
      "cell_type": "markdown",
      "metadata": {
        "id": "z4uFVJr_H-ku"
      },
      "source": [
        "## Situación profesional Logistic Regression\n",
        "\n",
        "Resolver las siguientes consignas:\n",
        "\n",
        "1- Indicar la secuencia de pasos para resolver el algoritmo de regresión logística\n",
        "\n",
        "2- La fórmula de la celda 1 ¿Es correcta? ¿Se corresponde con la función likelihood?\n",
        "Revisar el anexo 2: https://www.cienciadedatos.net/documentos/py17-regresion-logistica-python.html\n",
        "\n",
        "3- Modificar la matriz X e Y de la siguientes maneras (resolver con los 3 métodos:\n",
        "    a- Simétricos los 0 y 1 de Y. Aquí aparecerá el mensaje de Sigular matrix https://stackoverflow.com/questions/13795682/numpy-error-singular-matrix \n",
        "    b- dejar un 1 y nueve 0\n",
        "    c- repetir valores en X con distintos valores en Y (ej. x1=1 y1=0, x2=1 y2=1 ....) identificar que pasa con la precisión?. Aplicar otras métricas.\n",
        "  \n",
        "4- Agregar a X atributos (columnas) de manera que queden en total 3. Deben tener valores extremos. \n",
        "\n",
        "5- En el caso del algoritmo codificado con funciones ¿Cómo se realiza una predicción? \n",
        "\n",
        "6- Agregar LogisticRegression de Sklearn y resolver los puntos anteriores.\n",
        "\n",
        "7- Investigar en ésta librería los métodos de ajuste de éste algoritmo ¿Cual método de ajuste usa el código cón funciones?\n",
        "\n",
        "8- Identificar la zona de división de las categorías (esto es sobre valores del eje x, por ej, si para y=0 el máxomo valor es 3 y para y=1 el menor valor es 7) ¿Cual es el máximo para x de y=0 y el mínimo de x para y=1?\n",
        "\n",
        "9- Repetir para 3 categorías, o sea: Y=1, Y=2 e Y=3.\n",
        "\n",
        "10- Emitir un informe.\n",
        "\n",
        "\n"
      ]
    },
    {
      "cell_type": "markdown",
      "source": [
        "# RESPUESTAS\n",
        "\n",
        "1- Indicar la secuencia de pasos para resolver el algoritmo de regresión logística\n",
        "\n",
        "  Las etapas para resolver el algoritmo de regresion logistica son los siguientes:\n",
        "\n",
        "\n",
        "  1.   Importar conjunto de datos.\n",
        "  2.   Importar Librerias.\n",
        "  3.   Análisis exploratorio de datos\n",
        "    1. a - Listar columnas.\n",
        "    2. b - Numero de Observaciones.\n",
        "    3. c - Tipos de datos de las columnas.\n",
        "    4. d - Separar entre tipos de Variables (Categoricas, Numericas)\n",
        "    5. e - Valores faltantes en variables categóricas.\n",
        "    6. f - Recuentos / Distribucion / Cardinalidad / de frecuencia de las variables categóricas.\n",
        "    7. g - Normalizacion / Eliminar NAN\n",
        "    8. h - Valores perdidos en **variables numéricas**\n",
        "    9. i - Valores atípicos en **variables numéricas**\n",
        "    10. j - Comprobar la distribución de variables. (graficos).\n",
        "  4. Declarar vector de características y variable de destino\n",
        "  5. Divida los datos en conjuntos de prueba y entrenamiento separados\n",
        "  6. **Instanciar Modelo**\n",
        "  7. Entrenar.\n",
        "  8. Predecir.\n",
        "  9. Evaluar Resultados. (METRICAS)\n",
        "  10. Evaluar Supuestos para corregir y volver a entrenar y Predecir\n",
        "\n",
        "2- La fórmula de la celda 1 ¿Es correcta? ¿Se corresponde con la función likelihood? Revisar el anexo 2: https://www.cienciadedatos.net/documentos/py17-regresion-logistica-python.html\n",
        "\n",
        "R: **SI ES CORRECTA**\n",
        "\n",
        "\n",
        "\n",
        "\n",
        "\n",
        "\n"
      ],
      "metadata": {
        "id": "vVRxWQc6Jw-Y"
      }
    },
    {
      "cell_type": "code",
      "execution_count": null,
      "metadata": {
        "id": "_phc9gScH-kv"
      },
      "outputs": [],
      "source": [
        ""
      ]
    },
    {
      "cell_type": "markdown",
      "metadata": {
        "id": "ziws4qYEH-kv"
      },
      "source": [
        "### Definir la función de entorno L(b)"
      ]
    },
    {
      "cell_type": "code",
      "execution_count": null,
      "metadata": {
        "id": "psWKhsPFH-kw",
        "outputId": "741fe929-a17c-4210-b0b6-ca330c40b96b"
      },
      "outputs": [
        {
          "data": {
            "text/latex": [
              "$\\displaystyle L(\\beta)=\\sum_{i=1}^n P_i^{y_i}(1-Pi)^{y_i}$"
            ],
            "text/plain": [
              "<IPython.core.display.Math object>"
            ]
          },
          "metadata": {},
          "output_type": "display_data"
        }
      ],
      "source": [
        "from IPython.display import display, Math, Latex\n",
        "display(Math(r'L(\\beta)=\\sum_{i=1}^n P_i^{y_i}(1-Pi)^{y_i}'))"
      ]
    },
    {
      "cell_type": "code",
      "execution_count": null,
      "metadata": {
        "id": "cn009GXNH-kx"
      },
      "outputs": [],
      "source": [
        "def likelihood(y, pi):\n",
        "    import numpy as np\n",
        "    total_sum = 1\n",
        "    sum_in = list(range(1, len(y)+1))\n",
        "    for i in range(len(y)):\n",
        "        sum_in[i] = np.where(y[i]==1, pi[i], 1-pi[i])\n",
        "        total_sum = total_sum * sum_in[i]\n",
        "    return total_sum"
      ]
    },
    {
      "cell_type": "markdown",
      "metadata": {
        "id": "ygWC5cupH-kx"
      },
      "source": [
        "### Calcular las probabilidades para cada observación"
      ]
    },
    {
      "cell_type": "code",
      "execution_count": null,
      "metadata": {
        "id": "QlZsHVN4H-kx",
        "outputId": "d727ec2c-4468-44ed-eb30-e61184febdcc"
      },
      "outputs": [
        {
          "data": {
            "text/latex": [
              "$\\displaystyle P_i = P(x_i) = \\frac{1}{1+e^{-\\sum_{j=0}^k\\beta_j\\cdot x_{ij}}} $"
            ],
            "text/plain": [
              "<IPython.core.display.Math object>"
            ]
          },
          "metadata": {},
          "output_type": "display_data"
        }
      ],
      "source": [
        "display(Math(r'P_i = P(x_i) = \\frac{1}{1+e^{-\\sum_{j=0}^k\\beta_j\\cdot x_{ij}}} '))"
      ]
    },
    {
      "cell_type": "code",
      "execution_count": null,
      "metadata": {
        "id": "zwJXCXZSH-ky"
      },
      "outputs": [],
      "source": [
        "def logitprobs(X,beta):\n",
        "    import numpy as np\n",
        "    n_rows = np.shape(X)[0]\n",
        "    n_cols = np.shape(X)[1]\n",
        "    pi=list(range(1,n_rows+1))\n",
        "    expon=list(range(1,n_rows+1))\n",
        "    for i in range(n_rows):\n",
        "        expon[i] = 0\n",
        "        for j in range(n_cols):\n",
        "            ex=X[i][j] * beta[j]\n",
        "            expon[i] = ex + expon[i]\n",
        "        with np.errstate(divide=\"ignore\", invalid=\"ignore\"):\n",
        "            pi[i]=1/(1+np.exp(-expon[i]))\n",
        "    return pi"
      ]
    },
    {
      "cell_type": "markdown",
      "metadata": {
        "id": "VDU3pXpJH-ky"
      },
      "source": [
        "### Calcular la matriz diagonal W"
      ]
    },
    {
      "cell_type": "code",
      "execution_count": null,
      "metadata": {
        "id": "BDLIqVngH-kz",
        "outputId": "61ba5b6d-9e2d-4591-a71a-893a4004f433"
      },
      "outputs": [
        {
          "data": {
            "text/latex": [
              "$\\displaystyle W= diag(P_i \\cdot (1-P_i))_{i=1}^n$"
            ],
            "text/plain": [
              "<IPython.core.display.Math object>"
            ]
          },
          "metadata": {},
          "output_type": "display_data"
        }
      ],
      "source": [
        "display(Math(r'W= diag(P_i \\cdot (1-P_i))_{i=1}^n'))"
      ]
    },
    {
      "cell_type": "code",
      "execution_count": null,
      "metadata": {
        "id": "tGEAgDgJH-kz"
      },
      "outputs": [],
      "source": [
        "def findW(pi):\n",
        "    import numpy as np\n",
        "    n = len(pi)\n",
        "    W = np.zeros(n*n).reshape(n,n)\n",
        "    for i in range(n):\n",
        "        print(i)\n",
        "        W[i,i]=pi[i]*(1-pi[i])\n",
        "        W[i,i].astype(float)\n",
        "    return W"
      ]
    },
    {
      "cell_type": "markdown",
      "metadata": {
        "id": "mSXvePdDH-kz"
      },
      "source": [
        "### Obtener la solución de la función logística"
      ]
    },
    {
      "cell_type": "code",
      "execution_count": null,
      "metadata": {
        "id": "bm6baq-AH-kz",
        "outputId": "8c0a9146-fcda-4440-f3fe-890d2592fc53"
      },
      "outputs": [
        {
          "data": {
            "text/latex": [
              "$\\displaystyle \\beta_{n+1} = \\beta_n -\\frac{f(\\beta_n)}{f'(\\beta_n)}$"
            ],
            "text/plain": [
              "<IPython.core.display.Math object>"
            ]
          },
          "metadata": {},
          "output_type": "display_data"
        },
        {
          "data": {
            "text/latex": [
              "$\\displaystyle f(\\beta) = X(Y-P)$"
            ],
            "text/plain": [
              "<IPython.core.display.Math object>"
            ]
          },
          "metadata": {},
          "output_type": "display_data"
        },
        {
          "data": {
            "text/latex": [
              "$\\displaystyle f'(\\beta) = XWX^T$"
            ],
            "text/plain": [
              "<IPython.core.display.Math object>"
            ]
          },
          "metadata": {},
          "output_type": "display_data"
        }
      ],
      "source": [
        "display(Math(r\"\\beta_{n+1} = \\beta_n -\\frac{f(\\beta_n)}{f'(\\beta_n)}\"))\n",
        "display(Math(r\"f(\\beta) = X(Y-P)\"))\n",
        "display(Math(r\"f'(\\beta) = XWX^T\"))"
      ]
    },
    {
      "cell_type": "code",
      "execution_count": null,
      "metadata": {
        "id": "sjg_gILQH-k0"
      },
      "outputs": [],
      "source": [
        "def logistics(X, Y, limit):\n",
        "    import numpy as np\n",
        "    from numpy import linalg\n",
        "    nrow = np.shape(X)[0]\n",
        "    bias = np.ones(nrow).reshape(nrow,1)\n",
        "    X_new = np.append(X, bias, axis = 1)\n",
        "    ncol = np.shape(X_new)[1]\n",
        "    beta = np.zeros(ncol).reshape(ncol,1)\n",
        "    root_dif = np.array(range(1,ncol+1)).reshape(ncol,1)\n",
        "    iter_i = 10000\n",
        "    while(iter_i>limit):\n",
        "        print(\"Iter:i\"+str(iter_i) + \", limit:\" + str(limit))\n",
        "        pi = logitprobs(X_new, beta)\n",
        "        print(\"Pi:\"+str(pi))\n",
        "        W = findW(pi)\n",
        "        print(\"W:\"+str(W))\n",
        "        num = (np.transpose(np.matrix(X_new))*np.matrix(Y - np.transpose(pi)).transpose())\n",
        "        den = (np.matrix(np.transpose(X_new))*np.matrix(W)*np.matrix(X_new))\n",
        "        root_dif = np.array(linalg.inv(den)*num)\n",
        "        beta = beta + root_dif\n",
        "        print(\"Beta: \"+str(beta))\n",
        "        iter_i = np.sum(root_dif*root_dif)\n",
        "        ll = likelihood(Y, pi)\n",
        "    return beta"
      ]
    },
    {
      "cell_type": "markdown",
      "metadata": {
        "id": "RhkSWQ0BH-k0"
      },
      "source": [
        "## Comprobación experimental"
      ]
    },
    {
      "cell_type": "code",
      "execution_count": null,
      "metadata": {
        "id": "Wv5d-W5xH-k0"
      },
      "outputs": [],
      "source": [
        "import numpy as np"
      ]
    },
    {
      "cell_type": "code",
      "execution_count": null,
      "metadata": {
        "id": "Q_U51hbyH-k0"
      },
      "outputs": [],
      "source": [
        "X = np.array(range(10)).reshape(10,1)\n",
        "X= np.append(X,X,axis=1)"
      ]
    },
    {
      "cell_type": "code",
      "execution_count": null,
      "metadata": {
        "id": "HLaazDXTH-k1",
        "outputId": "dd3a7fdc-792d-4eae-b923-47910afd7177"
      },
      "outputs": [
        {
          "data": {
            "text/plain": [
              "array([[0, 0],\n",
              "       [1, 1],\n",
              "       [2, 2],\n",
              "       [3, 3],\n",
              "       [4, 4],\n",
              "       [5, 5],\n",
              "       [6, 6],\n",
              "       [7, 7],\n",
              "       [8, 8],\n",
              "       [9, 9]])"
            ]
          },
          "execution_count": 18,
          "metadata": {},
          "output_type": "execute_result"
        }
      ],
      "source": [
        "X"
      ]
    },
    {
      "cell_type": "code",
      "execution_count": null,
      "metadata": {
        "id": "7b99cMgeH-k1"
      },
      "outputs": [],
      "source": [
        "Y = [0,0,0,0,1,0,1,0,1,1]\n",
        "# Y = [0,0,0,0,0,0,0,0,0,1]\n",
        "# Y = [0,0,0,0,0,1,1,1,1,1]"
      ]
    },
    {
      "cell_type": "code",
      "execution_count": null,
      "metadata": {
        "id": "LKFWNeYnH-k1"
      },
      "outputs": [],
      "source": [
        "bias = np.ones(10).reshape(10,1)\n",
        "X_new = np.append(X,bias,axis=1)"
      ]
    },
    {
      "cell_type": "code",
      "execution_count": null,
      "metadata": {
        "id": "TaBUVs92H-k1",
        "outputId": "4b99f620-4283-4a27-af06-674981eb9f1b"
      },
      "outputs": [
        {
          "data": {
            "text/plain": [
              "array([[0., 1.],\n",
              "       [1., 1.],\n",
              "       [2., 1.],\n",
              "       [3., 1.],\n",
              "       [4., 1.],\n",
              "       [5., 1.],\n",
              "       [6., 1.],\n",
              "       [7., 1.],\n",
              "       [8., 1.],\n",
              "       [9., 1.]])"
            ]
          },
          "execution_count": 14,
          "metadata": {},
          "output_type": "execute_result"
        }
      ],
      "source": [
        "X_new"
      ]
    },
    {
      "cell_type": "code",
      "execution_count": null,
      "metadata": {
        "id": "z_9ePt0qH-k1",
        "outputId": "b1fc0396-e612-4256-c370-f74f4f969f82"
      },
      "outputs": [
        {
          "name": "stdout",
          "output_type": "stream",
          "text": [
            "Iter:i10000, limit:1e-05\n",
            "Pi:[array([0.5]), array([0.5]), array([0.5]), array([0.5]), array([0.5]), array([0.5]), array([0.5]), array([0.5]), array([0.5]), array([0.5])]\n",
            "0\n",
            "1\n",
            "2\n",
            "3\n",
            "4\n",
            "5\n",
            "6\n",
            "7\n",
            "8\n",
            "9\n",
            "W:[[0.25 0.   0.   0.   0.   0.   0.   0.   0.   0.  ]\n",
            " [0.   0.25 0.   0.   0.   0.   0.   0.   0.   0.  ]\n",
            " [0.   0.   0.25 0.   0.   0.   0.   0.   0.   0.  ]\n",
            " [0.   0.   0.   0.25 0.   0.   0.   0.   0.   0.  ]\n",
            " [0.   0.   0.   0.   0.25 0.   0.   0.   0.   0.  ]\n",
            " [0.   0.   0.   0.   0.   0.25 0.   0.   0.   0.  ]\n",
            " [0.   0.   0.   0.   0.   0.   0.25 0.   0.   0.  ]\n",
            " [0.   0.   0.   0.   0.   0.   0.   0.25 0.   0.  ]\n",
            " [0.   0.   0.   0.   0.   0.   0.   0.   0.25 0.  ]\n",
            " [0.   0.   0.   0.   0.   0.   0.   0.   0.   0.25]]\n",
            "Beta: [[ 0.43636364]\n",
            " [-2.36363636]]\n",
            "Iter:i5.777190082644626, limit:1e-05\n",
            "Pi:[array([0.08598797]), array([0.12705276]), array([0.18378532]), array([0.2583532]), array([0.35019508]), array([0.45467026]), array([0.56329497]), array([0.66616913]), array([0.75533524]), array([0.82687453])]\n",
            "0\n",
            "1\n",
            "2\n",
            "3\n",
            "4\n",
            "5\n",
            "6\n",
            "7\n",
            "8\n",
            "9\n",
            "W:[[0.07859404 0.         0.         0.         0.         0.\n",
            "  0.         0.         0.         0.        ]\n",
            " [0.         0.11091035 0.         0.         0.         0.\n",
            "  0.         0.         0.         0.        ]\n",
            " [0.         0.         0.15000827 0.         0.         0.\n",
            "  0.         0.         0.         0.        ]\n",
            " [0.         0.         0.         0.19160683 0.         0.\n",
            "  0.         0.         0.         0.        ]\n",
            " [0.         0.         0.         0.         0.22755849 0.\n",
            "  0.         0.         0.         0.        ]\n",
            " [0.         0.         0.         0.         0.         0.24794521\n",
            "  0.         0.         0.         0.        ]\n",
            " [0.         0.         0.         0.         0.         0.\n",
            "  0.24599375 0.         0.         0.        ]\n",
            " [0.         0.         0.         0.         0.         0.\n",
            "  0.         0.22238782 0.         0.        ]\n",
            " [0.         0.         0.         0.         0.         0.\n",
            "  0.         0.         0.18480392 0.        ]\n",
            " [0.         0.         0.         0.         0.         0.\n",
            "  0.         0.         0.         0.14315304]]\n",
            "Beta: [[ 0.60426056]\n",
            " [-3.34641372]]\n",
            "Iter:i0.9940407075349107, limit:1e-05\n",
            "Pi:[array([0.0340128]), array([0.06053134]), array([0.10546805]), array([0.1774629]), array([0.28305225]), array([0.41943069]), array([0.56933774]), array([0.7075284]), array([0.81572841]), array([0.89011647])]\n",
            "0\n",
            "1\n",
            "2\n",
            "3\n",
            "4\n",
            "5\n",
            "6\n",
            "7\n",
            "8\n",
            "9\n",
            "W:[[0.03285593 0.         0.         0.         0.         0.\n",
            "  0.         0.         0.         0.        ]\n",
            " [0.         0.0568673  0.         0.         0.         0.\n",
            "  0.         0.         0.         0.        ]\n",
            " [0.         0.         0.09434454 0.         0.         0.\n",
            "  0.         0.         0.         0.        ]\n",
            " [0.         0.         0.         0.14596982 0.         0.\n",
            "  0.         0.         0.         0.        ]\n",
            " [0.         0.         0.         0.         0.20293367 0.\n",
            "  0.         0.         0.         0.        ]\n",
            " [0.         0.         0.         0.         0.         0.24350859\n",
            "  0.         0.         0.         0.        ]\n",
            " [0.         0.         0.         0.         0.         0.\n",
            "  0.24519228 0.         0.         0.        ]\n",
            " [0.         0.         0.         0.         0.         0.\n",
            "  0.         0.20693196 0.         0.        ]\n",
            " [0.         0.         0.         0.         0.         0.\n",
            "  0.         0.         0.15031557 0.        ]\n",
            " [0.         0.         0.         0.         0.         0.\n",
            "  0.         0.         0.         0.09780914]]\n",
            "Beta: [[ 0.65761412]\n",
            " [-3.66759924]]\n",
            "Iter:i0.10600674406802027, limit:1e-05\n",
            "Pi:[array([0.02490177]), array([0.04697681]), array([0.0868775]), array([0.15515129]), array([0.26170168]), array([0.40624059]), array([0.56907679]), array([0.71823018]), array([0.83108181]), array([0.90473054])]\n",
            "0\n",
            "1\n",
            "2\n",
            "3\n",
            "4\n",
            "5\n",
            "6\n",
            "7\n",
            "8\n",
            "9\n",
            "W:[[0.02428167 0.         0.         0.         0.         0.\n",
            "  0.         0.         0.         0.        ]\n",
            " [0.         0.04476999 0.         0.         0.         0.\n",
            "  0.         0.         0.         0.        ]\n",
            " [0.         0.         0.0793298  0.         0.         0.\n",
            "  0.         0.         0.         0.        ]\n",
            " [0.         0.         0.         0.13107937 0.         0.\n",
            "  0.         0.         0.         0.        ]\n",
            " [0.         0.         0.         0.         0.19321391 0.\n",
            "  0.         0.         0.         0.        ]\n",
            " [0.         0.         0.         0.         0.         0.24120917\n",
            "  0.         0.         0.         0.        ]\n",
            " [0.         0.         0.         0.         0.         0.\n",
            "  0.2452284  0.         0.         0.        ]\n",
            " [0.         0.         0.         0.         0.         0.\n",
            "  0.         0.20237559 0.         0.        ]\n",
            " [0.         0.         0.         0.         0.         0.\n",
            "  0.         0.         0.14038483 0.        ]\n",
            " [0.         0.         0.         0.         0.         0.\n",
            "  0.         0.         0.         0.08619319]]\n",
            "Beta: [[ 0.66217766]\n",
            " [-3.6953843 ]]\n",
            "Iter:i0.0007928351246008561, limit:1e-05\n",
            "Pi:[array([0.02423594]), array([0.04594805]), array([0.08540873]), array([0.15331276]), array([0.25986436]), array([0.40504298]), array([0.56897776]), array([0.71907124]), array([0.83230289]), array([0.90586963])]\n",
            "0\n",
            "1\n",
            "2\n",
            "3\n",
            "4\n",
            "5\n",
            "6\n",
            "7\n",
            "8\n",
            "9\n",
            "W:[[0.02364856 0.         0.         0.         0.         0.\n",
            "  0.         0.         0.         0.        ]\n",
            " [0.         0.04383683 0.         0.         0.         0.\n",
            "  0.         0.         0.         0.        ]\n",
            " [0.         0.         0.07811408 0.         0.         0.\n",
            "  0.         0.         0.         0.        ]\n",
            " [0.         0.         0.         0.12980796 0.         0.\n",
            "  0.         0.         0.         0.        ]\n",
            " [0.         0.         0.         0.         0.19233487 0.\n",
            "  0.         0.         0.         0.        ]\n",
            " [0.         0.         0.         0.         0.         0.24098316\n",
            "  0.         0.         0.         0.        ]\n",
            " [0.         0.         0.         0.         0.         0.\n",
            "  0.24524207 0.         0.         0.        ]\n",
            " [0.         0.         0.         0.         0.         0.\n",
            "  0.         0.20200779 0.         0.        ]\n",
            " [0.         0.         0.         0.         0.         0.\n",
            "  0.         0.         0.13957479 0.        ]\n",
            " [0.         0.         0.         0.         0.         0.\n",
            "  0.         0.         0.         0.08526985]]\n",
            "Beta: [[ 0.66220827]\n",
            " [-3.69557172]]\n"
          ]
        }
      ],
      "source": [
        "a = logistics(X,Y,0.00001)"
      ]
    },
    {
      "cell_type": "code",
      "execution_count": null,
      "metadata": {
        "id": "1FAaUxKZH-k2"
      },
      "outputs": [],
      "source": [
        "ll = likelihood(Y, logitprobs(X,a))"
      ]
    },
    {
      "cell_type": "code",
      "execution_count": null,
      "metadata": {
        "id": "0fTubjVZH-k2",
        "outputId": "b7494016-0d07-448c-bf12-05dd1dbf4f86"
      },
      "outputs": [
        {
          "data": {
            "text/plain": [
              "array([1.32622426e-06])"
            ]
          },
          "execution_count": 17,
          "metadata": {},
          "output_type": "execute_result"
        }
      ],
      "source": [
        "ll"
      ]
    },
    {
      "cell_type": "code",
      "execution_count": null,
      "metadata": {
        "id": "xHnbZ8RLH-k2"
      },
      "outputs": [],
      "source": [
        "Y = 0.66220827 * X -3.69557172"
      ]
    },
    {
      "cell_type": "markdown",
      "metadata": {
        "id": "5BjiUF4BH-k2"
      },
      "source": [
        "# Con el paquete statsmodel de python"
      ]
    },
    {
      "cell_type": "code",
      "execution_count": null,
      "metadata": {
        "id": "BLKRm6TyH-k2"
      },
      "outputs": [],
      "source": [
        "import statsmodels.api as sm\n",
        "import pandas as pd\n",
        "from pandas import Timestamp"
      ]
    },
    {
      "cell_type": "code",
      "execution_count": null,
      "metadata": {
        "id": "bi9QcKkYH-k2"
      },
      "outputs": [],
      "source": [
        "Y = (Y - np.min(Y))/np.ptp(Y)\n",
        "logit_model = sm.Logit(Y,X_new)"
      ]
    },
    {
      "cell_type": "code",
      "execution_count": null,
      "metadata": {
        "id": "lSZf-qihH-k2",
        "outputId": "2db8b330-20b4-4524-e53c-682b02e41cef"
      },
      "outputs": [
        {
          "name": "stdout",
          "output_type": "stream",
          "text": [
            "Optimization terminated successfully.\n",
            "         Current function value: 0.359693\n",
            "         Iterations 6\n"
          ]
        }
      ],
      "source": [
        "result = logit_model.fit()"
      ]
    },
    {
      "cell_type": "code",
      "execution_count": null,
      "metadata": {
        "id": "0NVJZtQ-H-k3",
        "outputId": "2bcd17c8-42b2-435d-815b-c1924a065e08"
      },
      "outputs": [
        {
          "name": "stdout",
          "output_type": "stream",
          "text": [
            "                         Results: Logit\n",
            "================================================================\n",
            "Model:              Logit            Pseudo R-squared: 0.481    \n",
            "Dependent Variable: y                AIC:              11.1939  \n",
            "Date:               2022-02-26 11:26 BIC:              11.7990  \n",
            "No. Observations:   10               Log-Likelihood:   -3.5969  \n",
            "Df Model:           1                LL-Null:          -6.9315  \n",
            "Df Residuals:       8                LLR p-value:      0.0098099\n",
            "Converged:          1.0000           Scale:            1.0000   \n",
            "No. Iterations:     6.0000                                      \n",
            "------------------------------------------------------------------\n",
            "           Coef.    Std.Err.      z      P>|z|     [0.025   0.975]\n",
            "------------------------------------------------------------------\n",
            "x1         0.6272     0.3735    1.6793   0.0931   -0.1048   1.3592\n",
            "const     -2.8224     1.8730   -1.5069   0.1318   -6.4934   0.8485\n",
            "================================================================\n",
            "\n"
          ]
        }
      ],
      "source": [
        "print(result.summary2())"
      ]
    },
    {
      "cell_type": "code",
      "execution_count": null,
      "metadata": {
        "id": "wYEcYUSMH-k3"
      },
      "outputs": [],
      "source": [
        ""
      ]
    }
  ],
  "metadata": {
    "kernelspec": {
      "display_name": "Python 3",
      "language": "python",
      "name": "python3"
    },
    "language_info": {
      "codemirror_mode": {
        "name": "ipython",
        "version": 3
      },
      "file_extension": ".py",
      "mimetype": "text/x-python",
      "name": "python",
      "nbconvert_exporter": "python",
      "pygments_lexer": "ipython3",
      "version": "3.7.6"
    },
    "colab": {
      "name": "T5 - 2 - Logistic Regression - Situación Profesional.ipynb",
      "provenance": []
    }
  },
  "nbformat": 4,
  "nbformat_minor": 0
}